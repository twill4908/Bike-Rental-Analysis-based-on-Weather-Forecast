{
 "cells": [
  {
   "cell_type": "markdown",
   "metadata": {},
   "source": [
    "Cleaning Bike Rental Data Management\n"
   ]
  },
  {
   "cell_type": "markdown",
   "metadata": {},
   "source": [
    "Cleaning the Bike Rental Data (Step 1: Check for Missing Values)\n"
   ]
  },
  {
   "cell_type": "code",
   "execution_count": null,
   "metadata": {},
   "outputs": [
    {
     "data": {
      "text/plain": [
       "Trip Duration                 0\n",
       "Start Time                    0\n",
       "Stop Time                     0\n",
       "Start Station ID              0\n",
       "Start Station Name            0\n",
       "Start Station Latitude        0\n",
       "Start Station Longitude       0\n",
       "End Station ID                0\n",
       "End Station Name              0\n",
       "End Station Latitude          0\n",
       "End Station Longitude         0\n",
       "Bike ID                       0\n",
       "User Type                    49\n",
       "Birth Year                 1161\n",
       "Gender                        0\n",
       "dtype: int64\n",
       "Index(['Trip Duration', 'Start Time', 'Stop Time', 'Start Station ID',\n",
       "       'Start Station Name', 'Start Station Latitude',\n",
       "       'Start Station Longitude', 'End Station ID', 'End Station Name',\n",
       "       'End Station Latitude', 'End Station Longitude', 'Bike ID', 'User Type',\n",
       "       'Birth Year', 'Gender'],\n",
       "      dtype='object')\n",
       "   Trip Duration           Start Time            Stop Time  Start Station ID  \\\n",
       "0            365  2016-11-01 00:00:39  2016-11-01 00:06:45              3185   \n",
       "1            349  2016-11-01 00:05:14  2016-11-01 00:11:04              3220   \n",
       "2           2701  2016-11-01 00:05:51  2016-11-01 00:50:53              3199   \n",
       "3            313  2016-11-01 00:10:48  2016-11-01 00:16:01              3275   \n",
       "4            379  2016-11-01 00:19:39  2016-11-01 00:25:59              3211   \n",
       "5            487  2016-11-01 00:52:17  2016-11-01 01:00:25              3194   \n",
       "6            627  2016-11-01 01:27:01  2016-11-01 01:37:28              3194   \n",
       "7           1024  2016-11-01 03:48:04  2016-11-01 04:05:09              3217   \n",
       "8            215  2016-11-01 04:08:13  2016-11-01 04:11:48              3211   \n",
       "9            127  2016-11-01 04:11:33  2016-11-01 04:13:41              3202   \n",
       "\n",
       "  Start Station Name  Start Station Latitude  Start Station Longitude  \\\n",
       "0          City Hall               40.717732               -74.043845   \n",
       "1  5 Corners Library               40.734961               -74.059503   \n",
       "2       Newport Pkwy               40.728745               -74.032108   \n",
       "3     Columbus Drive               40.718355               -74.038914   \n",
       "4         Newark Ave               40.721525               -74.046305   \n",
       "5    McGinley Square               40.725340               -74.067622   \n",
       "6    McGinley Square               40.725340               -74.067622   \n",
       "7       Bayside Park               40.698651               -74.082080   \n",
       "8         Newark Ave               40.721525               -74.046305   \n",
       "9       Newport PATH               40.727224               -74.033759   \n",
       "\n",
       "   End Station ID      End Station Name  End Station Latitude  \\\n",
       "0            3267          Morris Canal             40.712419   \n",
       "1            3210        Pershing Field             40.742677   \n",
       "2            3199          Newport Pkwy             40.728745   \n",
       "3            3202          Newport PATH             40.727224   \n",
       "4            3203         Hamilton Park             40.727596   \n",
       "5            3191              Union St             40.718211   \n",
       "6            3189  West Side Light Rail             40.714402   \n",
       "7            3186         Grove St PATH             40.719586   \n",
       "8            3209          Brunswick St             40.724176   \n",
       "9            3199          Newport Pkwy             40.728745   \n",
       "\n",
       "   End Station Longitude  Bike ID   User Type  Birth Year  Gender  \n",
       "0             -74.038526    26217  Subscriber      1985.0       1  \n",
       "1             -74.051789    24623  Subscriber      1978.0       2  \n",
       "2             -74.032108    26314  Subscriber      1975.0       1  \n",
       "3             -74.033759    22064  Subscriber      1991.0       1  \n",
       "4             -74.044247    24456  Subscriber      1986.0       1  \n",
       "5             -74.083639    24722  Subscriber      1954.0       1  \n",
       "6             -74.088772    26261  Subscriber      1962.0       1  \n",
       "7             -74.043117    24664  Subscriber      1983.0       1  \n",
       "8             -74.050656    24472  Subscriber      1964.0       2  \n",
       "9             -74.032108    22064  Subscriber      1989.0       1  \n"
      ]
     },
     "metadata": {},
     "output_type": "display_data"
    }
   ],
   "source": [
    "import pandas as pd\n",
    "rentals = pd.read_csv('C:\\\\Users\\\\tiara.williams\\\\OneDrive - Accenture\\\\Data Engineering Projects\\\\Project 1\\\\bike-rental-starter-kit\\\\data\\\\JC-201611-citibike-tripdata.csv')\n",
    "print(rentals.isnull().sum())  # Check for missing values\n",
    "\n",
    "#If data is missing it is best practice to remove that data \n",
    "\n",
    "import pandas as pd\n",
    "\n",
    "# Load your dataset\n",
    "rentals = pd.read_csv(r'C:\\Users\\tiara.williams\\OneDrive - Accenture\\Data Engineering Projects\\Project 1\\bike-rental-starter-kit\\data\\JC-201611-citibike-tripdata.csv')\n",
    "\n",
    "# Set display option to show all columns\n",
    "pd.set_option('display.max_columns', None)  # This will display all columns\n",
    "\n",
    "# Print the column names to inspect them\n",
    "print(rentals.columns)\n",
    "print(rentals.head(10))\n"
   ]
  },
  {
   "cell_type": "code",
   "execution_count": null,
   "metadata": {},
   "outputs": [
    {
     "data": {
      "text/plain": [
       "Index(['Trip Duration', 'Start Time', 'Stop Time', 'Start Station ID',\n",
       "       'Start Station Name', 'Start Station Latitude',\n",
       "       'Start Station Longitude', 'End Station ID', 'End Station Name',\n",
       "       'End Station Latitude', 'End Station Longitude', 'Bike ID', 'User Type',\n",
       "       'Birth Year', 'Gender'],\n",
       "      dtype='object')\n"
      ]
     },
     "metadata": {},
     "output_type": "display_data"
    }
   ],
   "source": [
    "# Strip any leading or trailing spaces from column names\n",
    "rentals.columns = rentals.columns.str.strip()\n",
    "\n",
    "# Check again if the column name is correct\n",
    "print(rentals.columns)\n",
    "\n"
   ]
  },
  {
   "cell_type": "code",
   "execution_count": null,
   "metadata": {},
   "outputs": [
    {
     "data": {
      "text/plain": [
       "Trip Duration              0\n",
       "Start Time                 0\n",
       "Stop Time                  0\n",
       "Start Station ID           0\n",
       "Start Station Name         0\n",
       "Start Station Latitude     0\n",
       "Start Station Longitude    0\n",
       "End Station ID             0\n",
       "End Station Name           0\n",
       "End Station Latitude       0\n",
       "End Station Longitude      0\n",
       "Bike ID                    0\n",
       "User Type                  0\n",
       "Birth Year                 0\n",
       "Gender                     0\n",
       "dtype: int64\n"
      ]
     },
     "metadata": {},
     "output_type": "display_data"
    }
   ],
   "source": [
    "\n",
    "# Drop rows with missing critical data\n",
    "rentals.dropna(subset=['User Type', 'Birth Year'], inplace=True)\n",
    "\n",
    "# Impute missing 'duration' with the average\n",
    "rentals['Trip Duration'].fillna(rentals['Trip Duration'].mean(), inplace=True)\n",
    "\n",
    "print(rentals.isnull().sum())  # Check for missing values\n"
   ]
  },
  {
   "cell_type": "markdown",
   "metadata": {},
   "source": []
  },
  {
   "cell_type": "code",
   "execution_count": null,
   "metadata": {},
   "outputs": [],
   "source": [
    "rentals.duplicated(subset=['Start Time', 'Bike ID']).sum()  # Check for duplicates\n",
    "rentals.drop_duplicates(subset=['Start Time', 'Bike ID'], inplace=True)\n"
   ]
  },
  {
   "cell_type": "markdown",
   "metadata": {},
   "source": [
    "Ensure Correct Data Types "
   ]
  },
  {
   "cell_type": "code",
   "execution_count": null,
   "metadata": {},
   "outputs": [
    {
     "data": {
      "text/plain": [
       "Trip Duration                int64\n",
       "Start Time                  object\n",
       "Stop Time                   object\n",
       "Start Station ID             int64\n",
       "Start Station Name          object\n",
       "Start Station Latitude     float64\n",
       "Start Station Longitude    float64\n",
       "End Station ID               int64\n",
       "End Station Name            object\n",
       "End Station Latitude       float64\n",
       "End Station Longitude      float64\n",
       "Bike ID                      int64\n",
       "User Type                   object\n",
       "Birth Year                 float64\n",
       "Gender                       int64\n",
       "dtype: object\n",
       "<bound method DataFrame.info of        Trip Duration           Start Time  ... Birth Year  Gender\n",
       "0                365  2016-11-01 00:00:39  ...     1985.0       1\n",
       "1                349  2016-11-01 00:05:14  ...     1978.0       2\n",
       "2               2701  2016-11-01 00:05:51  ...     1975.0       1\n",
       "3                313  2016-11-01 00:10:48  ...     1991.0       1\n",
       "4                379  2016-11-01 00:19:39  ...     1986.0       1\n",
       "...              ...                  ...  ...        ...     ...\n",
       "21827            422  2016-11-30 22:17:45  ...     1961.0       1\n",
       "21828            105  2016-11-30 22:38:35  ...     1957.0       1\n",
       "21829            150  2016-11-30 23:02:50  ...     1952.0       1\n",
       "21830            142  2016-11-30 23:03:04  ...     1989.0       1\n",
       "21831            119  2016-11-30 23:05:40  ...     1986.0       2\n",
       "\n",
       "[20622 rows x 15 columns]>\n",
       "   Trip Duration           Start Time  ... Birth Year  Gender\n",
       "0            365  2016-11-01 00:00:39  ...     1985.0       1\n",
       "1            349  2016-11-01 00:05:14  ...     1978.0       2\n",
       "2           2701  2016-11-01 00:05:51  ...     1975.0       1\n",
       "3            313  2016-11-01 00:10:48  ...     1991.0       1\n",
       "4            379  2016-11-01 00:19:39  ...     1986.0       1\n",
       "5            487  2016-11-01 00:52:17  ...     1954.0       1\n",
       "6            627  2016-11-01 01:27:01  ...     1962.0       1\n",
       "7           1024  2016-11-01 03:48:04  ...     1983.0       1\n",
       "8            215  2016-11-01 04:08:13  ...     1964.0       2\n",
       "9            127  2016-11-01 04:11:33  ...     1989.0       1\n",
       "\n",
       "[10 rows x 15 columns]\n"
      ]
     },
     "metadata": {},
     "output_type": "display_data"
    }
   ],
   "source": [
    "# Check the data types of all columns\n",
    "print(rentals.dtypes)\n",
    "print(rentals.info)\n",
    "print(rentals.head(10))"
   ]
  },
  {
   "cell_type": "code",
   "execution_count": null,
   "metadata": {},
   "outputs": [
    {
     "data": {
      "text/plain": [
       "Traceback (most recent call last):\n",
       "  File \"c:\\Users\\tiara.williams\\.vscode\\extensions\\ms-python.python-2024.18.1-win32-x64\\python_files\\python_server.py\", line 130, in exec_user_input\n",
       "    retval = callable_(user_input, user_globals)\n",
       "  File \"<string>\", line 6, in <module>\n",
       "NameError: name 'df' is not defined\n",
       "\n"
      ]
     },
     "metadata": {},
     "output_type": "display_data"
    }
   ],
   "source": [
    "rentals['Start Time'] = pd.to_datetime(rentals['Start Time'])\n",
    "rentals['Stop Time'] = pd.to_datetime(rentals['Stop Time'])\n",
    "rentals['Birth Year'] = rentals['Birth Year'].astype('int64')\n",
    "\n",
    "# Replace NaN or invalid entries with a default value (e.g., 0 or a valid year)\n",
    "rentals['Birth Year'] = rentals['Birth Year'].fillna(0).astype('int64')\n"
   ]
  },
  {
   "cell_type": "code",
   "execution_count": null,
   "metadata": {},
   "outputs": [
    {
     "data": {
      "text/plain": [
       "Trip Duration                       int64\n",
       "Start Time                 datetime64[ns]\n",
       "Stop Time                  datetime64[ns]\n",
       "Start Station ID                    int64\n",
       "Start Station Name                 object\n",
       "Start Station Latitude            float64\n",
       "Start Station Longitude           float64\n",
       "End Station ID                      int64\n",
       "End Station Name                   object\n",
       "End Station Latitude              float64\n",
       "End Station Longitude             float64\n",
       "Bike ID                             int64\n",
       "User Type                          object\n",
       "Birth Year                          int64\n",
       "Gender                              int64\n",
       "dtype: object\n"
      ]
     },
     "metadata": {},
     "output_type": "display_data"
    }
   ],
   "source": [
    "print(rentals.dtypes)\n"
   ]
  },
  {
   "cell_type": "markdown",
   "metadata": {},
   "source": [
    "Checking and Removing Outliers\n",
    "    (Look for extreme or impossible values in the duration (e.g., rentals lasting thousands of minutes or negative values).)"
   ]
  },
  {
   "cell_type": "code",
   "execution_count": null,
   "metadata": {},
   "outputs": [
    {
     "data": {
      "text/plain": [
       "0        False\n",
       "1        False\n",
       "2         True\n",
       "3        False\n",
       "4        False\n",
       "         ...  \n",
       "21827    False\n",
       "21828    False\n",
       "21829    False\n",
       "21830    False\n",
       "21831    False\n",
       "Name: Trip Duration, Length: 20622, dtype: bool\n",
       "0        False\n",
       "1        False\n",
       "2         True\n",
       "3        False\n",
       "4        False\n",
       "         ...  \n",
       "21827    False\n",
       "21828    False\n",
       "21829    False\n",
       "21830    False\n",
       "21831    False\n",
       "Name: Trip Duration, Length: 20622, dtype: bool\n",
       "Traceback (most recent call last):\n",
       "  File \"c:\\Users\\tiara.williams\\.vscode\\extensions\\ms-python.python-2024.18.1-win32-x64\\python_files\\python_server.py\", line 130, in exec_user_input\n",
       "    retval = callable_(user_input, user_globals)\n",
       "  File \"<string>\", line 4, in <module>\n",
       "AttributeError: 'NoneType' object has no attribute 'sum'\n",
       "\n"
      ]
     },
     "metadata": {},
     "output_type": "display_data"
    }
   ],
   "source": [
    "#rentals = rentals[rentals['Trip Duration'] < 1440]  # Assuming no rental should exceed 1 day (1440 mins)\n",
    "\n",
    "\n",
    "print(rentals['Trip Duration'] > 1440)\n",
    "\n",
    "print(rentals['Trip Duration'] > 1440).sum()"
   ]
  },
  {
   "cell_type": "code",
   "execution_count": null,
   "metadata": {},
   "outputs": [
    {
     "data": {
      "text/plain": [
       "Total duration for rentals exceeding 1440 minutes: 8174328 minutes\n",
       "Total duration for all rentals: 8174328 minutes\n"
      ]
     },
     "metadata": {},
     "output_type": "display_data"
    }
   ],
   "source": [
    "# Filter rentals where the duration is greater than 1440 minutes\n",
    "long_rentals = rentals[rentals['Trip Duration'] > 1440]\n",
    "\n",
    "# Get the sum of 'duration' for these rentals\n",
    "sum_lr_duration = long_rentals['Trip Duration'].sum()\n",
    "\n",
    "# Optionally, get the sum for other entire tirp duration column as well, also can do other columns like (e.g., 'cost')\n",
    "sum_duration = long_rentals['Trip Duration'].sum()\n",
    "\n",
    "# Display the results\n",
    "print(f\"Total duration for rentals exceeding 1440 minutes: {sum_lr_duration} minutes\")\n",
    "print(f\"Total duration for all rentals: {sum_duration} minutes\")\n",
    "\n",
    "#print(f\"Total cost for rentals exceeding 1440 minutes: {sum_cost} dollars\")\n",
    "\n",
    "\n",
    "rentals = rentals[rentals['Trip Duration'] < 1440]  # Assuming no rental should exceed 1 day (1440 mins)\n",
    "\n"
   ]
  },
  {
   "cell_type": "markdown",
   "metadata": {},
   "source": [
    "Cleaning the Weather Data"
   ]
  },
  {
   "cell_type": "code",
   "execution_count": null,
   "metadata": {},
   "outputs": [
    {
     "data": {
      "text/plain": [
       "       STATION                                         NAME        DATE  \\\n",
       "0  USW00014734  NEWARK LIBERTY INTERNATIONAL AIRPORT, NJ US  2016-01-01   \n",
       "1  USW00014734  NEWARK LIBERTY INTERNATIONAL AIRPORT, NJ US  2016-01-02   \n",
       "2  USW00014734  NEWARK LIBERTY INTERNATIONAL AIRPORT, NJ US  2016-01-03   \n",
       "3  USW00014734  NEWARK LIBERTY INTERNATIONAL AIRPORT, NJ US  2016-01-04   \n",
       "4  USW00014734  NEWARK LIBERTY INTERNATIONAL AIRPORT, NJ US  2016-01-05   \n",
       "5  USW00014734  NEWARK LIBERTY INTERNATIONAL AIRPORT, NJ US  2016-01-06   \n",
       "6  USW00014734  NEWARK LIBERTY INTERNATIONAL AIRPORT, NJ US  2016-01-07   \n",
       "7  USW00014734  NEWARK LIBERTY INTERNATIONAL AIRPORT, NJ US  2016-01-08   \n",
       "8  USW00014734  NEWARK LIBERTY INTERNATIONAL AIRPORT, NJ US  2016-01-09   \n",
       "9  USW00014734  NEWARK LIBERTY INTERNATIONAL AIRPORT, NJ US  2016-01-10   \n",
       "\n",
       "    AWND  PGTM  PRCP  SNOW  SNWD  TAVG  TMAX  TMIN  TSUN  WDF2   WDF5  WSF2  \\\n",
       "0  12.75   NaN  0.00   0.0   0.0    41    43    34   NaN   270  280.0  25.9   \n",
       "1   9.40   NaN  0.00   0.0   0.0    36    42    30   NaN   260  260.0  21.0   \n",
       "2  10.29   NaN  0.00   0.0   0.0    37    47    28   NaN   270  250.0  23.9   \n",
       "3  17.22   NaN  0.00   0.0   0.0    32    35    14   NaN   330  330.0  25.9   \n",
       "4   9.84   NaN  0.00   0.0   0.0    19    31    10   NaN   360  350.0  25.1   \n",
       "5   5.37   NaN  0.00   0.0   0.0    28    42    15   NaN   230  250.0  12.1   \n",
       "6   3.36   NaN  0.00   0.0   0.0    35    46    24   NaN    20  360.0   8.9   \n",
       "7   8.05   NaN  0.00   0.0   0.0    38    45    31   NaN    20   30.0  14.1   \n",
       "8   6.71   NaN  0.01   0.0   0.0    44    48    38   NaN    60   70.0  13.0   \n",
       "9  15.43   NaN  1.77   0.0   0.0    53    65    39   NaN   260  270.0  36.0   \n",
       "\n",
       "   WSF5  \n",
       "0  35.1  \n",
       "1  25.1  \n",
       "2  30.0  \n",
       "3  33.1  \n",
       "4  31.1  \n",
       "5  16.1  \n",
       "6  10.1  \n",
       "7  16.1  \n",
       "8  17.0  \n",
       "9  42.9  \n",
       "STATION      0\n",
       "NAME         0\n",
       "DATE         0\n",
       "AWND         0\n",
       "PGTM       366\n",
       "PRCP         0\n",
       "SNOW         0\n",
       "SNWD         0\n",
       "TAVG         0\n",
       "TMAX         0\n",
       "TMIN         0\n",
       "TSUN       366\n",
       "WDF2         0\n",
       "WDF5         2\n",
       "WSF2         0\n",
       "WSF5         2\n",
       "dtype: int64\n",
       "       STATION                                         NAME        DATE  \\\n",
       "0  USW00014734  NEWARK LIBERTY INTERNATIONAL AIRPORT, NJ US  2016-01-01   \n",
       "1  USW00014734  NEWARK LIBERTY INTERNATIONAL AIRPORT, NJ US  2016-01-02   \n",
       "2  USW00014734  NEWARK LIBERTY INTERNATIONAL AIRPORT, NJ US  2016-01-03   \n",
       "3  USW00014734  NEWARK LIBERTY INTERNATIONAL AIRPORT, NJ US  2016-01-04   \n",
       "4  USW00014734  NEWARK LIBERTY INTERNATIONAL AIRPORT, NJ US  2016-01-05   \n",
       "5  USW00014734  NEWARK LIBERTY INTERNATIONAL AIRPORT, NJ US  2016-01-06   \n",
       "6  USW00014734  NEWARK LIBERTY INTERNATIONAL AIRPORT, NJ US  2016-01-07   \n",
       "7  USW00014734  NEWARK LIBERTY INTERNATIONAL AIRPORT, NJ US  2016-01-08   \n",
       "8  USW00014734  NEWARK LIBERTY INTERNATIONAL AIRPORT, NJ US  2016-01-09   \n",
       "9  USW00014734  NEWARK LIBERTY INTERNATIONAL AIRPORT, NJ US  2016-01-10   \n",
       "\n",
       "    AWND  PGTM  PRCP  SNOW  SNWD  TAVG  TMAX  TMIN  TSUN  WDF2   WDF5  WSF2  \\\n",
       "0  12.75   NaN  0.00   0.0   0.0    41    43    34   NaN   270  280.0  25.9   \n",
       "1   9.40   NaN  0.00   0.0   0.0    36    42    30   NaN   260  260.0  21.0   \n",
       "2  10.29   NaN  0.00   0.0   0.0    37    47    28   NaN   270  250.0  23.9   \n",
       "3  17.22   NaN  0.00   0.0   0.0    32    35    14   NaN   330  330.0  25.9   \n",
       "4   9.84   NaN  0.00   0.0   0.0    19    31    10   NaN   360  350.0  25.1   \n",
       "5   5.37   NaN  0.00   0.0   0.0    28    42    15   NaN   230  250.0  12.1   \n",
       "6   3.36   NaN  0.00   0.0   0.0    35    46    24   NaN    20  360.0   8.9   \n",
       "7   8.05   NaN  0.00   0.0   0.0    38    45    31   NaN    20   30.0  14.1   \n",
       "8   6.71   NaN  0.01   0.0   0.0    44    48    38   NaN    60   70.0  13.0   \n",
       "9  15.43   NaN  1.77   0.0   0.0    53    65    39   NaN   260  270.0  36.0   \n",
       "\n",
       "   WSF5  \n",
       "0  35.1  \n",
       "1  25.1  \n",
       "2  30.0  \n",
       "3  33.1  \n",
       "4  31.1  \n",
       "5  16.1  \n",
       "6  10.1  \n",
       "7  16.1  \n",
       "8  17.0  \n",
       "9  42.9  \n",
       "STATION     object\n",
       "NAME        object\n",
       "DATE        object\n",
       "AWND       float64\n",
       "PGTM       float64\n",
       "PRCP       float64\n",
       "SNOW       float64\n",
       "SNWD       float64\n",
       "TAVG         int64\n",
       "TMAX         int64\n",
       "TMIN         int64\n",
       "TSUN       float64\n",
       "WDF2         int64\n",
       "WDF5       float64\n",
       "WSF2       float64\n",
       "WSF5       float64\n",
       "dtype: object\n"
      ]
     },
     "metadata": {},
     "output_type": "display_data"
    }
   ],
   "source": [
    "# Reading and saving csv to weather variable\n",
    "weather = pd.read_csv('C:\\\\Users\\\\tiara.williams\\OneDrive - Accenture\\\\Data Engineering Projects\\Project 1\\\\bike-rental-starter-kit\\data\\\\newark_airport_2016.csv')\n",
    "\n",
    "\n",
    "# Set display option to show all columns\n",
    "pd.set_option('display.max_columns', None)  # This will display all columns\n",
    "\n",
    "# Show the first 10 rows of the DataFrame (or you can adjust to see more)\n",
    "print(weather.head(10))\n",
    "\n",
    "# This returns the sum/count of null values from each column\n",
    "print(weather.isnull().sum())\n",
    "\n",
    "print(weather.head(10))\n",
    "\n",
    "print(weather.dtypes)"
   ]
  },
  {
   "cell_type": "markdown",
   "metadata": {},
   "source": [
    "Handling the Missing Values"
   ]
  },
  {
   "cell_type": "code",
   "execution_count": null,
   "metadata": {},
   "outputs": [],
   "source": [
    "# Impute missing/null values with the mean of the column  (Basically filling in missing values for the mean)\n",
    "weather['PGTM'].fillna(weather['PGTM'].mean(), inplace = True) \n",
    "weather['TSUN'].fillna(weather['TSUN'].mean(), inplace = True)\n",
    "weather['WDF2'].fillna(weather['WDF2'].mean(), inplace = True)\n",
    "weather['WDF5'].fillna(weather['WDF5'].mean(), inplace = True)\n"
   ]
  },
  {
   "cell_type": "code",
   "execution_count": null,
   "metadata": {},
   "outputs": [
    {
     "data": {
      "text/plain": [
       "         STATION                                         NAME        DATE  \\\n",
       "0    USW00014734  NEWARK LIBERTY INTERNATIONAL AIRPORT, NJ US  2016-01-01   \n",
       "1    USW00014734  NEWARK LIBERTY INTERNATIONAL AIRPORT, NJ US  2016-01-02   \n",
       "2    USW00014734  NEWARK LIBERTY INTERNATIONAL AIRPORT, NJ US  2016-01-03   \n",
       "3    USW00014734  NEWARK LIBERTY INTERNATIONAL AIRPORT, NJ US  2016-01-04   \n",
       "4    USW00014734  NEWARK LIBERTY INTERNATIONAL AIRPORT, NJ US  2016-01-05   \n",
       "..           ...                                          ...         ...   \n",
       "361  USW00014734  NEWARK LIBERTY INTERNATIONAL AIRPORT, NJ US  2016-12-27   \n",
       "362  USW00014734  NEWARK LIBERTY INTERNATIONAL AIRPORT, NJ US  2016-12-28   \n",
       "363  USW00014734  NEWARK LIBERTY INTERNATIONAL AIRPORT, NJ US  2016-12-29   \n",
       "364  USW00014734  NEWARK LIBERTY INTERNATIONAL AIRPORT, NJ US  2016-12-30   \n",
       "365  USW00014734  NEWARK LIBERTY INTERNATIONAL AIRPORT, NJ US  2016-12-31   \n",
       "\n",
       "      AWND  PGTM  PRCP  SNOW  SNWD  TAVG  TMAX  TMIN  TSUN  WDF2   WDF5  WSF2  \\\n",
       "0    12.75   NaN  0.00   0.0   0.0    41    43    34   NaN   270  280.0  25.9   \n",
       "1     9.40   NaN  0.00   0.0   0.0    36    42    30   NaN   260  260.0  21.0   \n",
       "2    10.29   NaN  0.00   0.0   0.0    37    47    28   NaN   270  250.0  23.9   \n",
       "3    17.22   NaN  0.00   0.0   0.0    32    35    14   NaN   330  330.0  25.9   \n",
       "4     9.84   NaN  0.00   0.0   0.0    19    31    10   NaN   360  350.0  25.1   \n",
       "..     ...   ...   ...   ...   ...   ...   ...   ...   ...   ...    ...   ...   \n",
       "361  13.65   NaN  0.01   0.0   0.0    53    62    40   NaN   270  270.0  29.1   \n",
       "362   8.28   NaN  0.00   0.0   0.0    41    43    31   NaN   330  330.0  19.9   \n",
       "363   8.05   NaN  0.36   0.0   0.0    38    45    31   NaN   170  150.0  18.1   \n",
       "364  14.99   NaN  0.00   0.0   0.0    37    42    32   NaN   270  270.0  25.9   \n",
       "365  12.30   NaN  0.00   0.0   0.0    35    44    29   NaN   200  220.0  21.9   \n",
       "\n",
       "     WSF5  \n",
       "0    35.1  \n",
       "1    25.1  \n",
       "2    30.0  \n",
       "3    33.1  \n",
       "4    31.1  \n",
       "..    ...  \n",
       "361  38.0  \n",
       "362  25.1  \n",
       "363  25.1  \n",
       "364  33.1  \n",
       "365  28.0  \n",
       "\n",
       "[366 rows x 16 columns]\n"
      ]
     },
     "metadata": {},
     "output_type": "display_data"
    }
   ],
   "source": [
    "pd.set_option('display.max_columns', None)  # This will display all columns\n",
    "print(weather)\n"
   ]
  },
  {
   "cell_type": "markdown",
   "metadata": {},
   "source": [
    "Ensure correct data types"
   ]
  },
  {
   "cell_type": "code",
   "execution_count": null,
   "metadata": {},
   "outputs": [],
   "source": [
    "weather['DATE'] = pd.to_datetime(weather['DATE'])"
   ]
  },
  {
   "cell_type": "markdown",
   "metadata": {},
   "source": [
    "Remove outliers  or Invalid Data (Could be invalid temperatures like if columns are -100 or the wind speeed i more than 300)"
   ]
  },
  {
   "cell_type": "code",
   "execution_count": null,
   "metadata": {},
   "outputs": [],
   "source": [
    "weather = weather[(weather['TMIN'] > -50) & (weather['TMAX'] < 100)]  # Remove unrealistic temperatures\n",
    "#weather = weather[weather['WDF2'] < 400]  # Assuming wind speeds over 400 mph are outliers\n"
   ]
  },
  {
   "cell_type": "markdown",
   "metadata": {},
   "source": [
    "Joining the Data and Validation Checks (Missing Data etc)\n"
   ]
  },
  {
   "cell_type": "code",
   "execution_count": null,
   "metadata": {},
   "outputs": [],
   "source": [
    "weather['condition'] = weather['condition'].str.strip().str.lower()  # Remove spaces and convert to lowercase\n"
   ]
  },
  {
   "cell_type": "markdown",
   "metadata": {},
   "source": [
    "Database Design using SQL\n"
   ]
  },
  {
   "cell_type": "code",
   "execution_count": null,
   "metadata": {},
   "outputs": [],
   "source": [
    "#The relational database schema should account for the following entities:\n",
    "\n",
    "# Bike Rentals: The rentals made by customers, linked to time and weather conditions.\n",
    "# Weather Conditions: The weather data corresponding to each rental date."
   ]
  },
  {
   "cell_type": "code",
   "execution_count": null,
   "metadata": {},
   "outputs": [],
   "source": [
    "#. Set Up the Database Connection\n",
    "import sqlite3\n",
    "\n",
    "# Establish a connection to SQLite (it will create a file if it doesn't exist)\n",
    "conn = sqlite3.connect('weather_and _rentals.db')  # Creates the database file if it doesn't exist\n",
    "\n",
    "# Create a cursor object to interact with the database\n",
    "cursor = conn.cursor()\n",
    "\n"
   ]
  },
  {
   "cell_type": "markdown",
   "metadata": {},
   "source": [
    "Create Bike Table/Schema"
   ]
  },
  {
   "cell_type": "code",
   "execution_count": null,
   "metadata": {},
   "outputs": [
    {
     "data": {
      "text/plain": [
       "<sqlite3.Cursor object at 0x0000028A210D0CC0>\n"
      ]
     },
     "metadata": {},
     "output_type": "display_data"
    }
   ],
   "source": [
    "cursor.execute('''CREATE TABLE bikes (\n",
    "    bike_id SERIAL PRIMARY KEY,\n",
    "    bike_type VARCHAR(255),\n",
    "    status VARCHAR(50) -- e.g., available, under maintenance\n",
    ");\n",
    "''')"
   ]
  },
  {
   "cell_type": "markdown",
   "metadata": {},
   "source": [
    "Create Rentals Table/Schema (stores information about each rental)\n"
   ]
  },
  {
   "cell_type": "code",
   "execution_count": null,
   "metadata": {},
   "outputs": [
    {
     "data": {
      "text/plain": [
       "<sqlite3.Cursor object at 0x0000028A210D0CC0>\n"
      ]
     },
     "metadata": {},
     "output_type": "display_data"
    }
   ],
   "source": [
    "cursor.execute('''CREATE TABLE rentals (\n",
    "    rental_id SERIAL PRIMARY KEY,\n",
    "    bike_id INT REFERENCES bikes(bike_id),\n",
    "    rental_timestamp TIMESTAMP,\n",
    "    duration INT, -- in minutes\n",
    "    location VARCHAR(255),\n",
    "    user_id INT -- Assuming there’s user data available\n",
    ");\n",
    "''')"
   ]
  },
  {
   "cell_type": "markdown",
   "metadata": {},
   "source": [
    "Create Weather Table (Stores weathere data associate w each day)"
   ]
  },
  {
   "cell_type": "code",
   "execution_count": null,
   "metadata": {},
   "outputs": [
    {
     "data": {
      "text/plain": [
       "<sqlite3.Cursor object at 0x0000028A210D0CC0>\n"
      ]
     },
     "metadata": {},
     "output_type": "display_data"
    }
   ],
   "source": [
    "cursor.execute('''CREATE TABLE weather (\n",
    "    weather_id SERIAL PRIMARY KEY,\n",
    "    weather_date DATE,\n",
    "    temperature DECIMAL(5,2), -- Average temperature for the day\n",
    "    precipitation DECIMAL(5,2), -- Precipitation in mm\n",
    "    wind_speed DECIMAL(5,2), -- Wind speed in m/s\n",
    "    humidity DECIMAL(5,2), -- Percentage of humidity\n",
    "    condition VARCHAR(50) -- Clear, Rain, Snow, etc.\n",
    ");\n",
    "''')"
   ]
  },
  {
   "cell_type": "markdown",
   "metadata": {},
   "source": [
    "Create Daily Rental (Links each bike rental with the weather conditions on the same day.)"
   ]
  },
  {
   "cell_type": "code",
   "execution_count": null,
   "metadata": {},
   "outputs": [
    {
     "data": {
      "text/plain": [
       "<sqlite3.Cursor object at 0x0000028A210D0CC0>\n"
      ]
     },
     "metadata": {},
     "output_type": "display_data"
    }
   ],
   "source": [
    "cursor.execute('''CREATE TABLE rental_weather (\n",
    "    rental_id INT REFERENCES rentals(rental_id),\n",
    "    weather_id INT REFERENCES weather(weather_id),\n",
    "    PRIMARY KEY (rental_id, weather_id)\n",
    ");\n",
    "''')\n",
    "\n"
   ]
  },
  {
   "cell_type": "markdown",
   "metadata": {},
   "source": [
    "\n",
    "Inserting Data \n",
    "(After creating the tables, the next step is inserting data into these tables.)\n"
   ]
  },
  {
   "cell_type": "code",
   "execution_count": null,
   "metadata": {},
   "outputs": [
    {
     "data": {
      "text/plain": [
       "Traceback (most recent call last):\n",
       "  File \"c:\\Users\\tiara.williams\\.vscode\\extensions\\ms-python.python-2024.18.1-win32-x64\\python_files\\python_server.py\", line 130, in exec_user_input\n",
       "    retval = callable_(user_input, user_globals)\n",
       "  File \"<string>\", line 3\n",
       "    cursor.execute('''COPY rentals(Bike ID, Start Time, Stop Time, Trip Duration, Start Station ID, Start Station Latitude, Start Station Longitude,  End Station ID, End Station Latitude, End Station Longitude, User Type, Birth Year, Gender   )\n",
       "                   ^^^^^^^^^^^^^^^^^^^^^^^^^^^^^^^^^^^^^^^^^^^^^^^^^^^^^^^^^^^^^^^^^^^^^^^^^^^^^^^^^^^^^^^^^^^^^^^^^^^^^^^^^^^^^^^^^^^^^^^^^^^^^^^^^^^^^^^^^^^^^^^^^^^^^^^^^^^^^^^^^^^^^^^^^^^^^^^^^^^^^^^^^^^^^^^^^^^^^^^^^^^^^^^^^^^^^^^^^^^^^^^^^\n",
       "SyntaxError: (unicode error) 'unicodeescape' codec can't decode bytes in position 232-233: truncated \\UXXXXXXXX escape\n",
       "\n"
      ]
     },
     "metadata": {},
     "output_type": "display_data"
    }
   ],
   "source": [
    "# import rental data into the rental table.\n",
    "\n",
    "cursor.execute('''COPY rentals(Bike ID, Start Time, Stop Time, Trip Duration, Start Station ID, Start Station Latitude, Start Station Longitude,  End Station ID, End Station Latitude, End Station Longitude, User Type, Birth Year, Gender   )\n",
    "FROM r'C:\\Users\\tiara.williams\\OneDrive - Accenture\\Data Engineering Projects\\Project 1\\bike-rental-starter-kit\\data\\JC-201611-citibike-tripdata.csv' DELIMITER ',' CSV HEADER;\n",
    "''')\n"
   ]
  },
  {
   "cell_type": "code",
   "execution_count": null,
   "metadata": {},
   "outputs": [],
   "source": [
    "# import weather data into the weather table.\n",
    "\n",
    "#cursor.execute('''COPY weather(TMAX, TMIN, x, WXS2, h, c)\n",
    "#FROM '/path/to/weather.csv' DELIMITER ',' CSV HEADER;\n",
    "#''')"
   ]
  },
  {
   "cell_type": "code",
   "execution_count": null,
   "metadata": {},
   "outputs": [],
   "source": [
    "# Insert cleaned data into SQL tables\n",
    "\n",
    "# Insert the rentals data into the rentals table\n",
    "rentals.to_sql('rentals', conn, if_exists='replace', index=False)\n",
    "\n",
    "# Insert the weather data into the weather table\n",
    "weather.to_sql('weather', conn, if_exists='replace', index=False)\n",
    "\n",
    "# Commit changes\n",
    "conn.commit()"
   ]
  },
  {
   "cell_type": "markdown",
   "metadata": {},
   "source": [
    "Views for Analytics (create views to help the analysts by providing easy-to-query summaries or aggregates)"
   ]
  },
  {
   "cell_type": "markdown",
   "metadata": {},
   "source": []
  },
  {
   "cell_type": "code",
   "execution_count": null,
   "metadata": {},
   "outputs": [
    {
     "data": {
      "text/plain": [
       "<sqlite3.Cursor object at 0x0000028A210D0CC0>\n"
      ]
     },
     "metadata": {},
     "output_type": "display_data"
    }
   ],
   "source": [
    "#Average Rentals by The Weather Condition to see how rental counts vary by weather conditions.\n",
    "\n",
    "cursor.execute('''CREATE VIEW avg_rentals_by_weather AS\n",
    "SELECT\n",
    "    w.condition AS weather_condition,\n",
    "    COUNT(r.rental_id) AS total_rentals,\n",
    "    AVG(r.duration) AS avg_rental_duration\n",
    "FROM rentals r\n",
    "JOIN rental_weather rw ON r.rental_id = rw.rental_id\n",
    "JOIN weather w ON rw.weather_id = w.weather_id\n",
    "GROUP BY w.condition;\n",
    "''')"
   ]
  },
  {
   "cell_type": "code",
   "execution_count": null,
   "metadata": {},
   "outputs": [
    {
     "data": {
      "text/plain": [
       "<sqlite3.Cursor object at 0x0000028A210D0CC0>\n"
      ]
     },
     "metadata": {},
     "output_type": "display_data"
    }
   ],
   "source": [
    "# Rentals and Weather Correlation, this view help to correlate weather factors (e.g., temperature, precipitation) with the number of rentals.\n",
    "\n",
    "cursor.execute('''CREATE VIEW rental_weather_correlation AS\n",
    "SELECT\n",
    "    w.weather_date,\n",
    "    w.temperature,\n",
    "    w.precipitation,\n",
    "    COUNT(r.rental_id) AS total_rentals\n",
    "FROM rentals r\n",
    "JOIN rental_weather rw ON r.rental_id = rw.rental_id\n",
    "JOIN weather w ON rw.weather_id = w.weather_id\n",
    "GROUP BY w.weather_date, w.temperature, w.precipitation;\n",
    "''')\n",
    "\n"
   ]
  },
  {
   "cell_type": "code",
   "execution_count": null,
   "metadata": {},
   "outputs": [
    {
     "data": {
      "text/plain": [
       "<sqlite3.Cursor object at 0x0000028A210D0CC0>\n"
      ]
     },
     "metadata": {},
     "output_type": "display_data"
    }
   ],
   "source": [
    "# Rental Volume by Day of Week and Weather this view summarizes the rental volume by day of the week and weather conditions.\n",
    "\n",
    "cursor.execute('''CREATE VIEW rentals_by_day_weather AS\n",
    "SELECT\n",
    "    strftime('%w', r.rental_timestamp) AS day_of_week,  -- Use strftime to get the day of the week (0 = Sunday, 6 = Saturday)\n",
    "    w.condition AS weather_condition,\n",
    "    COUNT(r.rental_id) AS rental_count\n",
    "FROM rentals r\n",
    "JOIN rental_weather rw ON r.rental_id = rw.rental_id\n",
    "JOIN weather w ON rw.weather_id = w.weather_id\n",
    "GROUP BY day_of_week, weather_condition;\n",
    "''')\n"
   ]
  },
  {
   "cell_type": "code",
   "execution_count": null,
   "metadata": {},
   "outputs": [
    {
     "data": {
      "text/plain": [
       "Traceback (most recent call last):\n",
       "  File \"c:\\Users\\tiara.williams\\.vscode\\extensions\\ms-python.python-2024.18.1-win32-x64\\python_files\\python_server.py\", line 130, in exec_user_input\n",
       "    retval = callable_(user_input, user_globals)\n",
       "  File \"<string>\", line 3, in <module>\n",
       "sqlite3.OperationalError: no such column: r.rental_id\n",
       "\n"
      ]
     },
     "metadata": {},
     "output_type": "display_data"
    }
   ],
   "source": [
    "#New for checking rain, make sure to check read me file to see whet rain  caolumn is\n",
    "\n",
    "cursor.execute('''\n",
    " -- View rentals on rainy days\n",
    "SELECT * FROM rentals\n",
    "WHERE rental_id IN (\n",
    "    SELECT r.rental_id\n",
    "    FROM rentals r\n",
    "    JOIN rental_weather rw ON r.rental_id = rw.rental_id\n",
    "    JOIN weather w ON rw.weather_id = w.weather_id\n",
    "    WHERE w.condition = 'Rain'\n",
    ");''')\n",
    "\n",
    "cursor.execute(''''\n",
    "-- Correlation between temperature and rental volume\n",
    "SELECT weather_date, temperature, total_rentals\n",
    "FROM rental_weather_correlation\n",
    "ORDER BY weather_date; ''')\n"
   ]
  },
  {
   "cell_type": "markdown",
   "metadata": {},
   "source": [
    " Querying the Database for Insights"
   ]
  },
  {
   "cell_type": "code",
   "execution_count": null,
   "metadata": {},
   "outputs": [
    {
     "data": {
      "text/plain": [
       "Traceback (most recent call last):\n",
       "  File \"c:\\Users\\tiara.williams\\.vscode\\extensions\\ms-python.python-2024.18.1-win32-x64\\python_files\\python_server.py\", line 130, in exec_user_input\n",
       "    retval = callable_(user_input, user_globals)\n",
       "  File \"<string>\", line 1, in <module>\n",
       "sqlite3.OperationalError: no such column: r.rental_id\n",
       "\n"
      ]
     },
     "metadata": {},
     "output_type": "display_data"
    }
   ],
   "source": [
    "cursor.execute('''-- View rentals on rainy days\n",
    "SELECT * FROM rentals\n",
    "WHERE rental_id IN (\n",
    "    SELECT r.rental_id\n",
    "    FROM rentals r\n",
    "    JOIN rental_weather rw ON r.rental_id = rw.rental_id\n",
    "    JOIN weather w ON rw.weather_id = w.weather_id\n",
    "    WHERE w.condition = 'Rain'\n",
    ");\n",
    "''')"
   ]
  },
  {
   "cell_type": "code",
   "execution_count": null,
   "metadata": {},
   "outputs": [
    {
     "data": {
      "text/plain": [
       "Traceback (most recent call last):\n",
       "  File \"c:\\Users\\tiara.williams\\.vscode\\extensions\\ms-python.python-2024.18.1-win32-x64\\python_files\\python_server.py\", line 130, in exec_user_input\n",
       "    retval = callable_(user_input, user_globals)\n",
       "  File \"<string>\", line 1, in <module>\n",
       "sqlite3.OperationalError: no such column: w.weather_date\n",
       "\n"
      ]
     },
     "metadata": {},
     "output_type": "display_data"
    }
   ],
   "source": [
    "cursor.execute('''-- Correlation between temperature and rental volume\n",
    "SELECT weather_date, temperature, total_rentals\n",
    "FROM rental_weather_correlation\n",
    "ORDER BY weather_date;''')"
   ]
  },
  {
   "cell_type": "code",
   "execution_count": null,
   "metadata": {},
   "outputs": [
    {
     "data": {
      "text/plain": [
       "<sqlite3.Cursor object at 0x0000028A210D0CC0>\n"
      ]
     },
     "metadata": {},
     "output_type": "display_data"
    }
   ],
   "source": [
    "cursor.execute('''PRAGMA table_info(rentals);\n",
    "               ''')"
   ]
  },
  {
   "cell_type": "code",
   "execution_count": null,
   "metadata": {},
   "outputs": [
    {
     "data": {
      "text/plain": [
       "<sqlite3.Cursor object at 0x0000028A210D0CC0>\n"
      ]
     },
     "metadata": {},
     "output_type": "display_data"
    }
   ],
   "source": [
    "cursor.execute('''SELECT * FROM rentals LIMIT 10;''')"
   ]
  },
  {
   "cell_type": "markdown",
   "metadata": {},
   "source": [
    "Optimizing the Database (Indexes: Add indexes on frequently queried columns (e.g., rental_timestamp, weather_date).)"
   ]
  },
  {
   "cell_type": "code",
   "execution_count": null,
   "metadata": {},
   "outputs": [
    {
     "data": {
      "text/plain": [
       "Traceback (most recent call last):\n",
       "  File \"c:\\Users\\tiara.williams\\.vscode\\extensions\\ms-python.python-2024.18.1-win32-x64\\python_files\\python_server.py\", line 130, in exec_user_input\n",
       "    retval = callable_(user_input, user_globals)\n",
       "  File \"<string>\", line 1, in <module>\n",
       "sqlite3.OperationalError: near \"Duration\": syntax error\n",
       "\n"
      ]
     },
     "metadata": {},
     "output_type": "display_data"
    }
   ],
   "source": [
    "cursor.execute('CREATE INDEX idx_rental_timestamp ON rentals(Trip Duration);')\n",
    "cursor.execute('CREATE INDEX idx_weather_date ON weather(DATE);')\n",
    "\n",
    "\n"
   ]
  },
  {
   "cell_type": "markdown",
   "metadata": {},
   "source": [
    "Reporting (if need to generate reports (e.g., daily rental volume by weather condition), you can create additional views or use aggregate queries to produce summarized reports.)"
   ]
  },
  {
   "cell_type": "code",
   "execution_count": null,
   "metadata": {},
   "outputs": [
    {
     "data": {
      "text/plain": [
       "Traceback (most recent call last):\n",
       "  File \"c:\\Users\\tiara.williams\\.vscode\\extensions\\ms-python.python-2024.18.1-win32-x64\\python_files\\python_server.py\", line 130, in exec_user_input\n",
       "    retval = callable_(user_input, user_globals)\n",
       "  File \"<string>\", line 1, in <module>\n",
       "sqlite3.OperationalError: no such column: w.condition\n",
       "\n"
      ]
     },
     "metadata": {},
     "output_type": "display_data"
    }
   ],
   "source": [
    "cursor.execute('''SELECT \n",
    "    w.condition,\n",
    "    COUNT(r.rental_id) AS rentals,\n",
    "    AVG(r.duration) AS avg_rental_duration\n",
    "FROM rentals r\n",
    "JOIN rental_weather rw ON r.rental_id = rw.rental_id\n",
    "JOIN weather w ON rw.weather_id = w.weather_id\n",
    "GROUP BY w.condition;\n",
    "''')"
   ]
  },
  {
   "cell_type": "code",
   "execution_count": null,
   "metadata": {},
   "outputs": [],
   "source": []
  }
 ],
 "metadata": {
  "language_info": {
   "name": "python"
  }
 },
 "nbformat": 4,
 "nbformat_minor": 2
}
